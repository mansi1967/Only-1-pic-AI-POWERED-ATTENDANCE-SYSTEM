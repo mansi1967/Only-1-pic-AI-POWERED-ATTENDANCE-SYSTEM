#Front-end:
import pandas as pd
import ipywidgets as widgets
from IPython.display import display
from IPython.display import clear_output
import face_recognition
import datetime
import csv
from zoneinfo import ZoneInfo
import cv2
# create a dictionary to store attendance data
attendance_dict = {}
# read the student names from a CSV file
students_df = pd.read_csv('/content/students.csv')
header1 = widgets.HTML(
value="<h1 style='color: #008080; text-align: center; font-size: 48px; padding-top: 50px;'> 
ONLY ONE PIC: Student </h1>",
layout=widgets.Layout(width='100%')
)
header2 = widgets.HTML(
value="<h1 style='color: #008080; text-align: center; font-size: 48px; padding-top: 50px;'> 
Attendance System</h1>",
layout=widgets.Layout(width='100%')
)
header3 = widgets.HTML(
value="<h1 style='color: #008080; text-align: center; font-size: 48px; padding-top: 50px;'> 
</h1>",
layout=widgets.Layout(width='100%')
)
12
username_input = widgets.Text(
placeholder='Enter your username',
description='Username:',
layout=widgets.Layout(width='50%')
)
password_input = widgets.Password(
placeholder='Enter your password',
description='Password:',
layout=widgets.Layout(width='50%')
)
login_button = widgets.Button(
description='Login',
button_style='success',
layout=widgets.Layout(width='25%', margin='30px 0 0 50%')
)
output = widgets.Output()
def handle_login_button_click(button):
if username_input.value == "teacher" and password_input.value == "password":
clear_output()
display(lead_page)
else:
print("Incorrect username or password")
login_button.on_click(handle_login_button_click)
f=0
def on_upload_change(change):
for key in change['new']:
# Open the uploaded image
image = Image.open(io.BytesIO(change['new'][key]['content']))
# Display the image 
13
display(image)
# Save the image to Google Colab
with open('grp.jpg', 'wb') as f:
f.write(change['new'][key]['content'])
print('File saved as grp.jpg')
f=1
face()
# Create the upload widget and attach the handler function
upload_widget = widgets.FileUpload()
upload_widget.observe(on_upload_change, names=['value'])
# create a lead page
lead_label = widgets.Label(value="Upload image and take attendance of class")
attendance_button = widgets.Button(description="Take Attendance")
def handle_attendance_button_click(button):
global attendance_dict
attendance_dict = {}
for i, student in enumerate(students_df['Name']):
attendance_dict[student] = checkboxes[i].value
print("taken")
print('Attendance submitted:', attendance_dict)
clear_output()
display(thank_you_label)
# create checkboxes for each student
checkboxes = []
for student in students_df['Name']:
checkboxes.append(widgets.Checkbox(value=False, description=student))
# create a submit button 
14
submit_button = widgets.Button(description='Submit')
# function to be called when the submit button is clicked
submit_button.on_click(handle_attendance_button_click)
print("taken")
# create a vertical box layout for the checkboxes and submit button
box_layout = widgets.Layout(display='flex', flex_flow='column', align_items='center')
attendance_box = widgets.VBox(children=checkboxes + [submit_button], layout=box_layout)
# create a thank you label to display after attendance is submitted
thank_you_label = widgets.Label(value="Thank you for submitting 
attendance!"+str(attendance_dict))
# create a horizontal box layout for the image upload and attendance box
lead_box_layout = widgets.Layout(display='flex', flex_flow='row', align_items='center')
lead_box = widgets.HBox(children=[ upload_widget, attendance_box], layout=lead_box_layout)
# create a vertical box layout for the lead page
lead_layout = widgets.Layout(display='flex', flex_flow='column', align_items='center')
lead_page = widgets.VBox(children=[lead_label, lead_box], layout=lead_layout)
login_box_style = {'background-color': '#F5F5F5', 'padding': '30px'}
# Combine the widgets into a container and display it
login_box = widgets.VBox([header1,header2, header3,username_input, password_input, 
login_button, output], layout=widgets.Layout(width='60%', margin='0 auto', **login_box_style))
display(login_box)

#Loading Pre-trained Model:
import face_recognition
# Load the pretrained FaceNet model 
model = face_recognition.api.face_encodings
# Access the layers of the mode
layers = model._model.layers
# Iterate over the layers and print their names
for layer in layers:
print(layer.name)

#Extracting the features :
known_faces = []
known_names = []
known_images = ["/friend1.JPG",
"/friend11.JPG",
"/friend111.JPG",
"/friend12.JPG",
"/friend121.JPG",
"/friend13.JPG"]
# Load and encode known faces
for image_path in known_images:
# Load image
image = face_recognition.load_image_file(image_path)
# Find face location and encode the face
face_locations = face_recognition.face_locations(image)
face_encodings = face_recognition.face_encodings(image, face_locations)
# Append encoded face and name to list
for face_encoding in face_encodings:
known_faces.append(face_encoding)
known_names.append(image_path.split('/')[-1].split('.')[0])
#Recognizing the faces and storing them in attendance csv file:
# Load group image
group_image = face_recognition.load_image_file("/content/grp.jpg")
# Find face locations and encodings in the group image
face_locations = face_recognition.face_locations(group_image)
face_encodings = face_recognition.face_encodings(group_image, face_locations)

# Initialize CSV file
csv_file = open('log.csv', mode='a')
csv_writer = csv.writer(csv_file, delimiter=',', quotechar='"', 
quoting=csv.QUOTE_MINIMAL)
# Iterate over the detected faces and compare with the known faces
for (top, right, bottom, left), face_encoding in zip(face_locations, face_encodings):
# Compare the face encoding with the known faces
matches = face_recognition.compare_faces(known_faces, face_encoding, tolerance=0.5)
# Find the index of the matched face
if True in matches:
match_index = matches.index(True)
# Get the name of the matched face
name = known_names[match_index]
# Write name and time stamp to CSV file
now = datetime.datetime.now(tz=ZoneInfo('Asia/Kolkata'))
date_time = now.strftime("%m/%d/%Y, %H:%M:%S")
csv_writer.writerow([name, date_time])
else:
# If no match is found, the face is an unknown person
name = "Unknown"
# Write name and time stamp to CSV file
now = datetime.datetime.now()
date_time = now.strftime("%m/%d/%Y, %H:%M:%S")
csv_writer.writerow([name, date_time])
# Draw a box around the face and label it with the name
cv2.rectangle(group_image, (left, top), (right, bottom), (0, 255, 0), 2) 

cv2.putText(group_image, name, (left, top - 10), cv2.FONT_HERSHEY_SIMPLEX, 0.41, 
(0, 255, 0), 2)
rgb_annotated_image = cv2.cvtColor(group_image, cv2.COLOR_BGR2RGB)
# Save the annotated group image
cv2.imwrite('annotated_group_image.jpg',rgb_annotated_image)
# Close CSV file
csv_file.close()
with open('/content/log.csv', newline='') as csvfile:
# Create a CSV reader object
reader = csv.reader(csvfile, delimiter=',', quotechar='"')
# Create an empty list to store the rows
rows = []
# Loop through each row in the CSV file and append it to the list
for row in reader:
rows.append(row)
# Print the list of lists
print(rows)
rownm=[]
for i in range(0,len(rows)):
rownm.append(rows[i][0])
print(rownm)
atdn=["manaswini","yoshitha","sreenidhi","sathwika","Harsha","madhurima","chandana","mouni
ka"]
prs=[]
prs.append(["name","P/A"])
for i in atdn:
if i in rownm: 
prs.append([i,"present"])
else:
prs.append([i,"absent"])
print(prs)
# Open the CSV file in write mode
with open('attendance.csv', 'w', newline='') as csvfile:
# Create a CSV writer object
writer = csv.writer(csvfile, delimiter=',', quotechar='"', quoting=csv.QUOTE_MINIMAL)
# Loop through each row in the list and write it to the CSV file
for l in prs:
writer.writerow(l)
with open('students.csv', mode='w', newline='') as file:
writer = csv.writer(file)
writer.writerow(['Name', 'Grade']) # write the header row
for student in prs:
writer.writerow(student) # write each student row
